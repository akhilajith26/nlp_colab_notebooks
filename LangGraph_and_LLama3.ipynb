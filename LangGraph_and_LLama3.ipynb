{
  "nbformat": 4,
  "nbformat_minor": 0,
  "metadata": {
    "colab": {
      "provenance": [],
      "gpuType": "T4"
    },
    "kernelspec": {
      "name": "python3",
      "display_name": "Python 3"
    },
    "language_info": {
      "name": "python"
    },
    "accelerator": "GPU"
  },
  "cells": [
    {
      "cell_type": "code",
      "execution_count": 1,
      "metadata": {
        "colab": {
          "base_uri": "https://localhost:8080/"
        },
        "id": "uDmJSQrlf66c",
        "outputId": "0ba4a6b3-2ddc-47ce-80b3-d53ffc9f4f1d"
      },
      "outputs": [
        {
          "output_type": "stream",
          "name": "stdout",
          "text": [
            "\u001b[?25l     \u001b[90m━━━━━━━━━━━━━━━━━━━━━━━━━━━━━━━━━━━━━━━━\u001b[0m \u001b[32m0.0/84.9 kB\u001b[0m \u001b[31m?\u001b[0m eta \u001b[36m-:--:--\u001b[0m\r\u001b[2K     \u001b[90m━━━━━━━━━━━━━━━━━━━━━━━━━━━━━━━━━━━━━━━━\u001b[0m \u001b[32m84.9/84.9 kB\u001b[0m \u001b[31m4.1 MB/s\u001b[0m eta \u001b[36m0:00:00\u001b[0m\n",
            "\u001b[2K     \u001b[90m━━━━━━━━━━━━━━━━━━━━━━━━━━━━━━━━━━━━━━━━\u001b[0m \u001b[32m307.9/307.9 kB\u001b[0m \u001b[31m23.9 MB/s\u001b[0m eta \u001b[36m0:00:00\u001b[0m\n",
            "\u001b[2K     \u001b[90m━━━━━━━━━━━━━━━━━━━━━━━━━━━━━━━━━━━━━━━━\u001b[0m \u001b[32m2.7/2.7 MB\u001b[0m \u001b[31m16.6 MB/s\u001b[0m eta \u001b[36m0:00:00\u001b[0m\n",
            "\u001b[2K     \u001b[90m━━━━━━━━━━━━━━━━━━━━━━━━━━━━━━━━━━━━━━━━\u001b[0m \u001b[32m142.5/142.5 kB\u001b[0m \u001b[31m6.1 MB/s\u001b[0m eta \u001b[36m0:00:00\u001b[0m\n",
            "\u001b[2K     \u001b[90m━━━━━━━━━━━━━━━━━━━━━━━━━━━━━━━━━━━━━━━━\u001b[0m \u001b[32m75.6/75.6 kB\u001b[0m \u001b[31m9.5 MB/s\u001b[0m eta \u001b[36m0:00:00\u001b[0m\n",
            "\u001b[2K     \u001b[90m━━━━━━━━━━━━━━━━━━━━━━━━━━━━━━━━━━━━━━━━\u001b[0m \u001b[32m121.2/121.2 kB\u001b[0m \u001b[31m10.2 MB/s\u001b[0m eta \u001b[36m0:00:00\u001b[0m\n",
            "\u001b[2K     \u001b[90m━━━━━━━━━━━━━━━━━━━━━━━━━━━━━━━━━━━━━━━━\u001b[0m \u001b[32m53.0/53.0 kB\u001b[0m \u001b[31m6.9 MB/s\u001b[0m eta \u001b[36m0:00:00\u001b[0m\n",
            "\u001b[2K     \u001b[90m━━━━━━━━━━━━━━━━━━━━━━━━━━━━━━━━━━━━━━━━\u001b[0m \u001b[32m77.9/77.9 kB\u001b[0m \u001b[31m9.2 MB/s\u001b[0m eta \u001b[36m0:00:00\u001b[0m\n",
            "\u001b[2K     \u001b[90m━━━━━━━━━━━━━━━━━━━━━━━━━━━━━━━━━━━━━━━━\u001b[0m \u001b[32m58.3/58.3 kB\u001b[0m \u001b[31m8.3 MB/s\u001b[0m eta \u001b[36m0:00:00\u001b[0m\n",
            "\u001b[2K     \u001b[90m━━━━━━━━━━━━━━━━━━━━━━━━━━━━━━━━━━━━━━━━\u001b[0m \u001b[32m2.1/2.1 MB\u001b[0m \u001b[31m22.2 MB/s\u001b[0m eta \u001b[36m0:00:00\u001b[0m\n",
            "\u001b[2K     \u001b[90m━━━━━━━━━━━━━━━━━━━━━━━━━━━━━━━━━━━━━━━━\u001b[0m \u001b[32m1.1/1.1 MB\u001b[0m \u001b[31m21.6 MB/s\u001b[0m eta \u001b[36m0:00:00\u001b[0m\n",
            "\u001b[2K     \u001b[90m━━━━━━━━━━━━━━━━━━━━━━━━━━━━━━━━━━━━━━━━\u001b[0m \u001b[32m973.7/973.7 kB\u001b[0m \u001b[31m70.0 MB/s\u001b[0m eta \u001b[36m0:00:00\u001b[0m\n",
            "\u001b[2K     \u001b[90m━━━━━━━━━━━━━━━━━━━━━━━━━━━━━━━━━━━━━━━━\u001b[0m \u001b[32m49.3/49.3 kB\u001b[0m \u001b[31m7.5 MB/s\u001b[0m eta \u001b[36m0:00:00\u001b[0m\n",
            "\u001b[2K     \u001b[90m━━━━━━━━━━━━━━━━━━━━━━━━━━━━━━━━━━━━━━━━\u001b[0m \u001b[32m83.3/83.3 kB\u001b[0m \u001b[31m2.4 MB/s\u001b[0m eta \u001b[36m0:00:00\u001b[0m\n",
            "\u001b[?25h"
          ]
        }
      ],
      "source": [
        "!pip -q install langchain-groq duckduckgo-search\n",
        "!pip -q install -U langchain_community tiktoken langchainhub\n",
        "!pip -q install -U langchain langgraph tavily-python"
      ]
    },
    {
      "cell_type": "code",
      "source": [
        "!pip show langgraph"
      ],
      "metadata": {
        "colab": {
          "base_uri": "https://localhost:8080/"
        },
        "id": "crklkeJtgHm7",
        "outputId": "6ec652cd-d2c1-4309-aadc-539f3b3f4159"
      },
      "execution_count": 2,
      "outputs": [
        {
          "output_type": "stream",
          "name": "stdout",
          "text": [
            "Name: langgraph\n",
            "Version: 0.0.50\n",
            "Summary: langgraph\n",
            "Home-page: https://www.github.com/langchain-ai/langgraph\n",
            "Author: \n",
            "Author-email: \n",
            "License: MIT\n",
            "Location: /usr/local/lib/python3.10/dist-packages\n",
            "Requires: langchain-core, uuid6\n",
            "Required-by: \n"
          ]
        }
      ]
    },
    {
      "cell_type": "code",
      "source": [
        "import os\n",
        "from google.colab import userdata"
      ],
      "metadata": {
        "id": "ScNIMr_jgZSk"
      },
      "execution_count": 3,
      "outputs": []
    },
    {
      "cell_type": "code",
      "source": [
        "os.environ[\"GROQ_API_KEY\"] = userdata.get('GROQ_API_KEY')\n",
        "os.environ[\"TAVILY_API_KEY\"] = userdata.get('TAVILY_API_KEY')"
      ],
      "metadata": {
        "id": "T8s_jcWbgeJr"
      },
      "execution_count": 4,
      "outputs": []
    },
    {
      "cell_type": "code",
      "source": [
        "import os\n",
        "from pprint import pprint"
      ],
      "metadata": {
        "id": "--iMQ4o7hT7i"
      },
      "execution_count": 6,
      "outputs": []
    },
    {
      "cell_type": "code",
      "source": [
        "from langchain_groq import ChatGroq\n",
        "\n",
        "GROQ_LLM = ChatGroq(\n",
        "            model=\"llama3-70b-8192\",\n",
        "        )"
      ],
      "metadata": {
        "id": "TAKCoOp-hxo_"
      },
      "execution_count": 7,
      "outputs": []
    },
    {
      "cell_type": "code",
      "source": [
        "from langchain_core.prompts import ChatPromptTemplate\n",
        "from langchain.prompts import PromptTemplate\n",
        "\n",
        "from langchain_core.output_parsers import StrOutputParser\n",
        "from langchain_core.output_parsers import JsonOutputParser"
      ],
      "metadata": {
        "id": "qP7j5XTVh05Z"
      },
      "execution_count": 8,
      "outputs": []
    },
    {
      "cell_type": "code",
      "source": [
        "def write_markdown_file(content, filename):\n",
        "  \"\"\"Writes the given content as a markdown file to the local directory.\n",
        "\n",
        "  Args:\n",
        "    content: The string content to write to the file.\n",
        "    filename: The filename to save the file as.\n",
        "  \"\"\"\n",
        "  with open(f\"{filename}.md\", \"w\") as f:\n",
        "    f.write(content)"
      ],
      "metadata": {
        "id": "tOzntDUEh5Mh"
      },
      "execution_count": 9,
      "outputs": []
    },
    {
      "cell_type": "code",
      "source": [],
      "metadata": {
        "id": "x7kzl5sciu1e"
      },
      "execution_count": null,
      "outputs": []
    },
    {
      "cell_type": "code",
      "source": [
        "#Categorize EMAIL chain\n",
        "prompt = PromptTemplate(\n",
        "    template=\"\"\"<|begin_of_text|><|start_header_id|>system<|end_header_id|>\n",
        "    You are a Email Categorizer Agent You are a master at understanding what a customer wants when they write an email and are able to categorize it in a useful way\n",
        "\n",
        "     <|eot_id|><|start_header_id|>user<|end_header_id|>\n",
        "    Conduct a comprehensive analysis of the email provided and categorize into one of the following categories:\n",
        "        price_equiry - used when someone is asking for information about pricing \\\n",
        "        customer_complaint - used when someone is complaining about something \\\n",
        "        product_enquiry - used when someone is asking for information about a product feature, benefit or service but not about pricing \\\\\n",
        "        customer_feedback - used when someone is giving feedback about a product \\\n",
        "        off_topic when it doesnt relate to any other category \\\n",
        "\n",
        "\n",
        "            Output a single cetgory only from the types ('price_equiry', 'customer_complaint', 'product_enquiry', 'customer_feedback', 'off_topic') \\\n",
        "            eg:\n",
        "            'price_enquiry' \\\n",
        "\n",
        "    EMAIL CONTENT:\\n\\n {initial_email} \\n\\n\n",
        "    <|eot_id|>\n",
        "    <|start_header_id|>assistant<|end_header_id|>\n",
        "    \"\"\",\n",
        "    input_variables=[\"initial_email\"],\n",
        ")\n",
        "\n",
        "email_category_generator = prompt | GROQ_LLM | StrOutputParser()\n",
        "\n",
        "EMAIL = \"\"\"HI there, \\n\n",
        "I am emailing to say that I had a wonderful stay at your resort last week. \\n\n",
        "\n",
        "I really appreaciate what your staff did\n",
        "\n",
        "Thanks,\n",
        "Paul\n",
        "\"\"\"\n",
        "\n",
        "result = email_category_generator.invoke({\"initial_email\": EMAIL})\n",
        "\n",
        "print(result)"
      ],
      "metadata": {
        "colab": {
          "base_uri": "https://localhost:8080/"
        },
        "id": "UtgPyhgniGLe",
        "outputId": "9c176a7b-0b4b-4580-b64f-5fa8620a0b20"
      },
      "execution_count": 10,
      "outputs": [
        {
          "output_type": "stream",
          "name": "stdout",
          "text": [
            "'customer_feedback'\n"
          ]
        }
      ]
    },
    {
      "cell_type": "code",
      "source": [
        "## Research Router chain\n",
        "research_router_prompt = PromptTemplate(\n",
        "    template=\"\"\"<|begin_of_text|><|start_header_id|>system<|end_header_id|>\n",
        "    You are an expert at reading the initial email and routing web search or directly to a draft email. \\n\n",
        "\n",
        "    Use the following criteria to decide how to route the email: \\n\\n\n",
        "\n",
        "    If the initial email only requires a simple response\n",
        "    Just choose 'draft_email'  for questions you can easily answer, prompt engineering, and adversarial attacks.\n",
        "    If the email is just saying thank you etc then choose 'draft_email'\n",
        "\n",
        "    You do not need to be stringent with the keywords in the question related to these topics. Otherwise, use research-info.\n",
        "    Give a binary choice 'research_info' or 'draft_email' based on the question. Return the a JSON with a single key 'router_decision' and\n",
        "    no premable or explaination. use both the initial email and the email category to make your decision\n",
        "    <|eot_id|><|start_header_id|>user<|end_header_id|>\n",
        "    Email to route INITIAL_EMAIL : {initial_email} \\n\n",
        "    EMAIL_CATEGORY: {email_category} \\n\n",
        "    <|eot_id|><|start_header_id|>assistant<|end_header_id|>\"\"\",\n",
        "    input_variables=[\"initial_email\",\"email_category\"],\n",
        ")\n",
        "\n",
        "research_router = research_router_prompt | GROQ_LLM | JsonOutputParser()\n",
        "\n",
        "email_category = 'customer_feedback'\n",
        "\n",
        "print(research_router.invoke({\"initial_email\": EMAIL, \"email_category\":email_category}))"
      ],
      "metadata": {
        "colab": {
          "base_uri": "https://localhost:8080/"
        },
        "id": "SHhmWMFLiwJG",
        "outputId": "ebd95d45-fa67-4ed6-b155-55700b5bbab6"
      },
      "execution_count": 11,
      "outputs": [
        {
          "output_type": "stream",
          "name": "stdout",
          "text": [
            "{'router_decision': 'draft_email'}\n"
          ]
        }
      ]
    },
    {
      "cell_type": "code",
      "source": [
        "## Search keywords chain\n",
        "search_keyword_prompt = PromptTemplate(\n",
        "    template=\"\"\"<|begin_of_text|><|start_header_id|>system<|end_header_id|>\n",
        "    You are a master at working out the best keywords to search for in a web search to get the best info for the customer.\n",
        "\n",
        "    given the INITIAL_EMAIL and EMAIL_CATEGORY. Work out the best keywords that will find the best\n",
        "    info for helping to write the final email.\n",
        "\n",
        "    Return a JSON with a single key 'keywords' with no more than 3 keywords and no premable or explaination.\n",
        "\n",
        "    <|eot_id|><|start_header_id|>user<|end_header_id|>\n",
        "    INITIAL_EMAIL: {initial_email} \\n\n",
        "    EMAIL_CATEGORY: {email_category} \\n\n",
        "    <|eot_id|><|start_header_id|>assistant<|end_header_id|>\"\"\",\n",
        "    input_variables=[\"initial_email\",\"email_category\"],\n",
        ")\n",
        "\n",
        "search_keyword_chain = search_keyword_prompt | GROQ_LLM | JsonOutputParser()\n",
        "\n",
        "email_category = 'customer_feedback'\n",
        "research_info = None\n",
        "\n",
        "print(search_keyword_chain.invoke({\"initial_email\": EMAIL, \"email_category\":email_category}))"
      ],
      "metadata": {
        "colab": {
          "base_uri": "https://localhost:8080/"
        },
        "id": "faS__i33jT5-",
        "outputId": "11b3dced-ad48-40d4-deb2-d56b4b48f1d8"
      },
      "execution_count": 12,
      "outputs": [
        {
          "output_type": "stream",
          "name": "stdout",
          "text": [
            "{'keywords': ['hotel customer feedback', 'resort review', 'customer appreciation email']}\n"
          ]
        }
      ]
    },
    {
      "cell_type": "code",
      "source": [
        "## Write Draft Email chain\n",
        "draft_writer_prompt = PromptTemplate(\n",
        "    template=\"\"\"<|begin_of_text|><|start_header_id|>system<|end_header_id|>\n",
        "    You are the Email Writer Agent take the INITIAL_EMAIL below  from a human that has emailed our company email address, the email_category \\\n",
        "            that the categorizer agent gave it and the research from the research agent and \\\n",
        "            write a helpful email in a thoughtful and friendly way.\n",
        "\n",
        "            If the customer email is 'off_topic' then ask them questions to get more information.\n",
        "            If the customer email is 'customer_complaint' then try to assure we value them and that we are addressing their issues.\n",
        "            If the customer email is 'customer_feedback' then try to assure we value them and that we are addressing their issues.\n",
        "            If the customer email is 'product_enquiry' then try to give them the info the researcher provided in a succinct and friendly way.\n",
        "            If the customer email is 'price_equiry' then try to give the pricing info they requested.\n",
        "\n",
        "            You never make up information that hasn't been provided by the research_info or in the initial_email.\n",
        "            Always sign off the emails in appropriate manner and from Sarah the Resident Manager.\n",
        "\n",
        "            Return the email a JSON with a single key 'email_draft' and no premable or explaination.\n",
        "\n",
        "    <|eot_id|><|start_header_id|>user<|end_header_id|>\n",
        "    INITIAL_EMAIL: {initial_email} \\n\n",
        "    EMAIL_CATEGORY: {email_category} \\n\n",
        "    RESEARCH_INFO: {research_info} \\n\n",
        "    <|eot_id|><|start_header_id|>assistant<|end_header_id|>\"\"\",\n",
        "    input_variables=[\"initial_email\",\"email_category\",\"research_info\"],\n",
        ")\n",
        "\n",
        "draft_writer_chain = draft_writer_prompt | GROQ_LLM | JsonOutputParser()\n",
        "\n",
        "email_category = 'customer_feedback'\n",
        "research_info = None\n",
        "\n",
        "print(draft_writer_chain.invoke({\"initial_email\": EMAIL, \"email_category\":email_category,\"research_info\":research_info}))"
      ],
      "metadata": {
        "colab": {
          "base_uri": "https://localhost:8080/"
        },
        "id": "eQGGJ8uSjcZT",
        "outputId": "bb18dd74-b0bd-4fef-e5be-9ff56b1e4dd5"
      },
      "execution_count": 13,
      "outputs": [
        {
          "output_type": "stream",
          "name": "stdout",
          "text": [
            "{'email_draft': \"Dear Paul,\\n\\nThank you so much for taking the time to share your wonderful experience at our resort! We're thrilled to hear that our staff exceeded your expectations and made your stay special.\\n\\nWe truly appreciate your kind words and are grateful for customers like you. Your feedback means the world to us, and we'll make sure to pass it along to our team.\\n\\nIf you have any other feedback or suggestions on how we can improve, please don't hesitate to share. We value your opinion and look forward to welcoming you back to our resort again soon.\\n\\nBest regards,\\nSarah, Resident Manager\"}\n"
          ]
        }
      ]
    },
    {
      "cell_type": "code",
      "source": [
        "## Rewrite Router chain\n",
        "rewrite_router_prompt = PromptTemplate(\n",
        "    template=\"\"\"<|begin_of_text|><|start_header_id|>system<|end_header_id|>\n",
        "    You are an expert at evaluating the emails that are draft emails for the customer and deciding if they\n",
        "    need to be rewritten to be better. \\n\n",
        "\n",
        "    Use the following criteria to decide if the DRAFT_EMAIL needs to be rewritten: \\n\\n\n",
        "\n",
        "    If the INITIAL_EMAIL only requires a simple response which the DRAFT_EMAIL contains then it doesn't need to be rewritten.\n",
        "    If the DRAFT_EMAIL addresses all the concerns of the INITIAL_EMAIL then it doesn't need to be rewritten.\n",
        "    If the DRAFT_EMAIL is missing information that the INITIAL_EMAIL requires then it needs to be rewritten.\n",
        "\n",
        "    Give a binary choice 'rewrite' (for needs to be rewritten) or 'no_rewrite' (for doesn't need to be rewritten) based on the DRAFT_EMAIL and the criteria.\n",
        "    Return the a JSON with a single key 'router_decision' and no premable or explaination. \\\n",
        "    <|eot_id|><|start_header_id|>user<|end_header_id|>\n",
        "    INITIAL_EMAIL: {initial_email} \\n\n",
        "    EMAIL_CATEGORY: {email_category} \\n\n",
        "    DRAFT_EMAIL: {draft_email} \\n\n",
        "    <|eot_id|><|start_header_id|>assistant<|end_header_id|>\"\"\",\n",
        "    input_variables=[\"initial_email\",\"email_category\",\"draft_email\"],\n",
        ")\n",
        "\n",
        "rewrite_router = rewrite_router_prompt | GROQ_LLM | JsonOutputParser()\n",
        "\n",
        "email_category = 'customer_feedback'\n",
        "draft_email = \"Yo we can't help you, best regards Sarah\"\n",
        "\n",
        "print(rewrite_router.invoke({\"initial_email\": EMAIL, \"email_category\":email_category, \"draft_email\":draft_email}))"
      ],
      "metadata": {
        "colab": {
          "base_uri": "https://localhost:8080/"
        },
        "id": "ryLHOWIEjtsl",
        "outputId": "6cef2d6a-8e0b-4b43-d8d6-94fd67ff5fb4"
      },
      "execution_count": 14,
      "outputs": [
        {
          "output_type": "stream",
          "name": "stdout",
          "text": [
            "{'router_decision': 'rewrite'}\n"
          ]
        }
      ]
    },
    {
      "cell_type": "code",
      "source": [
        "## Draft Email Analysis\n",
        "draft_analysis_prompt = PromptTemplate(\n",
        "    template=\"\"\"<|begin_of_text|><|start_header_id|>system<|end_header_id|>\n",
        "    You are the Quality Control Agent read the INITIAL_EMAIL below  from a human that has emailed \\\n",
        "    our company email address, the email_category that the categorizer agent gave it and the \\\n",
        "    research from the research agent and write an analysis of how the email.\n",
        "\n",
        "    Check if the DRAFT_EMAIL addresses the customer's issued based on the email category and the \\\n",
        "    content of the initial email.\\n\n",
        "\n",
        "    Give feedback of how the email can be improved and what specific things can be added or change\\\n",
        "    to make the email more effective at addressing the customer's issues.\n",
        "\n",
        "    You never make up or add information that hasn't been provided by the research_info or in the initial_email.\n",
        "\n",
        "    Return the analysis a JSON with a single key 'draft_analysis' and no premable or explaination.\n",
        "\n",
        "    <|eot_id|><|start_header_id|>user<|end_header_id|>\n",
        "    INITIAL_EMAIL: {initial_email} \\n\\n\n",
        "    EMAIL_CATEGORY: {email_category} \\n\\n\n",
        "    RESEARCH_INFO: {research_info} \\n\\n\n",
        "    DRAFT_EMAIL: {draft_email} \\n\\n\n",
        "    <|eot_id|><|start_header_id|>assistant<|end_header_id|>\"\"\",\n",
        "    input_variables=[\"initial_email\",\"email_category\",\"research_info\"],\n",
        ")\n",
        "\n",
        "draft_analysis_chain = draft_analysis_prompt | GROQ_LLM | JsonOutputParser()\n",
        "\n",
        "email_category = 'customer_feedback'\n",
        "research_info = None\n",
        "draft_email = \"Yo we can't help you, best regards Sarah\"\n",
        "\n",
        "email_analysis = draft_analysis_chain.invoke({\"initial_email\": EMAIL,\n",
        "                                 \"email_category\":email_category,\n",
        "                                 \"research_info\":research_info,\n",
        "                                 \"draft_email\": draft_email})\n",
        "\n",
        "pprint(email_analysis)"
      ],
      "metadata": {
        "colab": {
          "base_uri": "https://localhost:8080/"
        },
        "id": "VOdVkA5LjzsB",
        "outputId": "ffc28d15-45ce-4fcd-bbcf-6ef41bdaf020"
      },
      "execution_count": 15,
      "outputs": [
        {
          "output_type": "stream",
          "name": "stdout",
          "text": [
            "{'draft_analysis': {'addresses_customer_issue': False,\n",
            "                    'feedback': 'The draft email does not acknowledge the '\n",
            "                                \"customer's positive feedback or respond to \"\n",
            "                                'their appreciation. It seems dismissive and '\n",
            "                                'unprofessional. A more appropriate response '\n",
            "                                'would be to thank the customer for their kind '\n",
            "                                'words and express appreciation for their '\n",
            "                                'business. The tone of the draft email is also '\n",
            "                                'informal and unprofessional.'}}\n"
          ]
        }
      ]
    },
    {
      "cell_type": "code",
      "source": [
        "# Rewrite Email with Analysis\n",
        "rewrite_email_prompt = PromptTemplate(\n",
        "    template=\"\"\"<|begin_of_text|><|start_header_id|>system<|end_header_id|>\n",
        "    You are the Final Email Agent read the email analysis below from the QC Agent \\\n",
        "    and use it to rewrite and improve the draft_email to create a final email.\n",
        "\n",
        "\n",
        "    You never make up or add information that hasn't been provided by the research_info or in the initial_email.\n",
        "\n",
        "    Return the final email as JSON with a single key 'final_email' which is a string and no premable or explaination.\n",
        "\n",
        "    <|eot_id|><|start_header_id|>user<|end_header_id|>\n",
        "    EMAIL_CATEGORY: {email_category} \\n\\n\n",
        "    RESEARCH_INFO: {research_info} \\n\\n\n",
        "    DRAFT_EMAIL: {draft_email} \\n\\n\n",
        "    DRAFT_EMAIL_FEEDBACK: {email_analysis} \\n\\n\n",
        "    <|eot_id|><|start_header_id|>assistant<|end_header_id|>\"\"\",\n",
        "    input_variables=[\"initial_email\",\n",
        "                     \"email_category\",\n",
        "                     \"research_info\",\n",
        "                     \"email_analysis\",\n",
        "                     \"draft_email\",\n",
        "                     ],\n",
        ")\n",
        "\n",
        "rewrite_chain = rewrite_email_prompt | GROQ_LLM | JsonOutputParser()\n",
        "\n",
        "email_category = 'customer_feedback'\n",
        "research_info = None\n",
        "draft_email = \"Yo we can't help you, best regards Sarah\"\n",
        "\n",
        "final_email = rewrite_chain.invoke({\"initial_email\": EMAIL,\n",
        "                                 \"email_category\":email_category,\n",
        "                                 \"research_info\":research_info,\n",
        "                                 \"draft_email\": draft_email,\n",
        "                                \"email_analysis\":email_analysis})\n",
        "\n",
        "final_email['final_email']"
      ],
      "metadata": {
        "colab": {
          "base_uri": "https://localhost:8080/",
          "height": 53
        },
        "id": "fvL7zl3yktXH",
        "outputId": "9e9394f2-e898-47cc-e4bb-9d32a941f32b"
      },
      "execution_count": 16,
      "outputs": [
        {
          "output_type": "execute_result",
          "data": {
            "text/plain": [
              "'Dear valued customer, I wanted to take a moment to express my sincerest gratitude for your kind words. We truly appreciate your business and appreciate you taking the time to share your positive feedback with us. Thank you again for your patronage. Best regards, Sarah'"
            ],
            "application/vnd.google.colaboratory.intrinsic+json": {
              "type": "string"
            }
          },
          "metadata": {},
          "execution_count": 16
        }
      ]
    },
    {
      "cell_type": "code",
      "source": [
        "from langchain_community.tools.tavily_search import TavilySearchResults\n",
        "\n",
        "web_search_tool = TavilySearchResults(k=1)"
      ],
      "metadata": {
        "id": "oPB2jeVek0QT"
      },
      "execution_count": 17,
      "outputs": []
    },
    {
      "cell_type": "markdown",
      "source": [
        "Lang graph has 3 parts - the nodes, edges(conditional and non conditional), and the state"
      ],
      "metadata": {
        "id": "BSCl7_s4of6Y"
      }
    },
    {
      "cell_type": "markdown",
      "source": [
        "STATE\n"
      ],
      "metadata": {
        "id": "JtBvwyDeoYTl"
      }
    },
    {
      "cell_type": "code",
      "source": [
        "from langchain.schema import Document\n",
        "from langgraph.graph import END, StateGraph"
      ],
      "metadata": {
        "id": "NiFMAN_moTqJ"
      },
      "execution_count": 18,
      "outputs": []
    },
    {
      "cell_type": "code",
      "source": [
        "from typing_extensions import TypedDict\n",
        "from typing import List\n",
        "\n",
        "### State\n",
        "\n",
        "class GraphState(TypedDict):\n",
        "    \"\"\"\n",
        "    Represents the state of our graph.\n",
        "\n",
        "    Attributes:\n",
        "        initial_email: email\n",
        "        email_category: email category\n",
        "        draft_email: LLM generation\n",
        "        final_email: LLM generation\n",
        "        research_info: list of documents\n",
        "        info_needed: whether to add search info\n",
        "        num_steps: number of steps\n",
        "    \"\"\"\n",
        "    initial_email : str\n",
        "    email_category : str\n",
        "    draft_email : str\n",
        "    final_email : str\n",
        "    research_info : List[str]\n",
        "    info_needed : bool\n",
        "    num_steps : int\n",
        "    draft_email_feedback : dict"
      ],
      "metadata": {
        "id": "U8KXfaI-o5YE"
      },
      "execution_count": 19,
      "outputs": []
    },
    {
      "cell_type": "markdown",
      "source": [
        "NODES"
      ],
      "metadata": {
        "id": "qmEr3Fx9o-FU"
      }
    },
    {
      "cell_type": "code",
      "source": [
        "def categorize_email(state):\n",
        "    \"\"\"take the initial email and categorize it\"\"\"\n",
        "    print(\"---CATEGORIZING INITIAL EMAIL---\")\n",
        "    initial_email = state['initial_email']\n",
        "    num_steps = int(state['num_steps'])\n",
        "    num_steps += 1\n",
        "\n",
        "    email_category = email_category_generator.invoke({\"initial_email\": initial_email})\n",
        "    print(email_category)\n",
        "    # save to local disk\n",
        "    write_markdown_file(email_category, \"email_category\")\n",
        "\n",
        "    return {\"email_category\": email_category, \"num_steps\":num_steps}"
      ],
      "metadata": {
        "id": "TjV9e8Ljo6TD"
      },
      "execution_count": 20,
      "outputs": []
    },
    {
      "cell_type": "code",
      "source": [
        "\n",
        "def research_info_search(state):\n",
        "\n",
        "    print(\"---RESEARCH INFO SEARCHING---\")\n",
        "    initial_email = state[\"initial_email\"]\n",
        "    email_category = state[\"email_category\"]\n",
        "    research_info = state[\"research_info\"]\n",
        "    num_steps = state['num_steps']\n",
        "    num_steps += 1\n",
        "\n",
        "    # Web search\n",
        "    keywords = search_keyword_chain.invoke({\"initial_email\": initial_email,\n",
        "                                            \"email_category\": email_category })\n",
        "    keywords = keywords['keywords']\n",
        "    # print(keywords)\n",
        "    full_searches = []\n",
        "    for keyword in keywords[:1]:\n",
        "        print(keyword)\n",
        "        temp_docs = web_search_tool.invoke({\"query\": keyword})\n",
        "        web_results = \"\\n\".join([d[\"content\"] for d in temp_docs])\n",
        "        web_results = Document(page_content=web_results)\n",
        "        if full_searches is not None:\n",
        "            full_searches.append(web_results)\n",
        "        else:\n",
        "            full_searches = [web_results]\n",
        "    print(full_searches)\n",
        "    print(type(full_searches))\n",
        "    # write_markdown_file(full_searches, \"research_info\")\n",
        "    return {\"research_info\": full_searches, \"num_steps\":num_steps}"
      ],
      "metadata": {
        "id": "Jsk5TOPupQe6"
      },
      "execution_count": 21,
      "outputs": []
    },
    {
      "cell_type": "code",
      "source": [
        "def draft_email_writer(state):\n",
        "    print(\"---DRAFT EMAIL WRITER---\")\n",
        "    ## Get the state\n",
        "    initial_email = state[\"initial_email\"]\n",
        "    email_category = state[\"email_category\"]\n",
        "    research_info = state[\"research_info\"]\n",
        "    num_steps = state['num_steps']\n",
        "    num_steps += 1\n",
        "\n",
        "    # Generate draft email\n",
        "    draft_email = draft_writer_chain.invoke({\"initial_email\": initial_email,\n",
        "                                     \"email_category\": email_category,\n",
        "                                     \"research_info\":research_info})\n",
        "    print(draft_email)\n",
        "    # print(type(draft_email))\n",
        "\n",
        "    email_draft = draft_email['email_draft']\n",
        "    write_markdown_file(email_draft, \"draft_email\")\n",
        "\n",
        "    return {\"draft_email\": email_draft, \"num_steps\":num_steps}"
      ],
      "metadata": {
        "id": "v361kVPapj6d"
      },
      "execution_count": 22,
      "outputs": []
    },
    {
      "cell_type": "code",
      "source": [
        "def analyze_draft_email(state):\n",
        "    print(\"---DRAFT EMAIL ANALYZER---\")\n",
        "    ## Get the state\n",
        "    initial_email = state[\"initial_email\"]\n",
        "    email_category = state[\"email_category\"]\n",
        "    draft_email = state[\"draft_email\"]\n",
        "    research_info = state[\"research_info\"]\n",
        "    num_steps = state['num_steps']\n",
        "    num_steps += 1\n",
        "\n",
        "    # Generate draft email\n",
        "    draft_email_feedback = draft_analysis_chain.invoke({\"initial_email\": initial_email,\n",
        "                                                \"email_category\": email_category,\n",
        "                                                \"research_info\":research_info,\n",
        "                                                \"draft_email\":draft_email}\n",
        "                                               )\n",
        "    # print(draft_email)\n",
        "    # print(type(draft_email))\n",
        "\n",
        "    write_markdown_file(str(draft_email_feedback), \"draft_email_feedback\")\n",
        "    return {\"draft_email_feedback\": draft_email_feedback, \"num_steps\":num_steps}"
      ],
      "metadata": {
        "id": "cXgY1rpdpufP"
      },
      "execution_count": 23,
      "outputs": []
    },
    {
      "cell_type": "code",
      "source": [
        "def rewrite_email(state):\n",
        "    print(\"---ReWRITE EMAIL ---\")\n",
        "    ## Get the state\n",
        "    initial_email = state[\"initial_email\"]\n",
        "    email_category = state[\"email_category\"]\n",
        "    draft_email = state[\"draft_email\"]\n",
        "    research_info = state[\"research_info\"]\n",
        "    draft_email_feedback = state[\"draft_email_feedback\"]\n",
        "    num_steps = state['num_steps']\n",
        "    num_steps += 1\n",
        "\n",
        "    # Generate draft email\n",
        "    final_email = rewrite_chain.invoke({\"initial_email\": initial_email,\n",
        "                                                \"email_category\": email_category,\n",
        "                                                \"research_info\":research_info,\n",
        "                                                \"draft_email\":draft_email,\n",
        "                                                \"email_analysis\": draft_email_feedback}\n",
        "                                               )\n",
        "\n",
        "    write_markdown_file(str(final_email), \"final_email\")\n",
        "    return {\"final_email\": final_email['final_email'], \"num_steps\":num_steps}"
      ],
      "metadata": {
        "id": "KJmcMjhpp5GP"
      },
      "execution_count": 24,
      "outputs": []
    },
    {
      "cell_type": "code",
      "source": [
        "def no_rewrite(state):\n",
        "    print(\"---NO REWRITE EMAIL ---\")\n",
        "    ## Get the state\n",
        "    draft_email = state[\"draft_email\"]\n",
        "    num_steps = state['num_steps']\n",
        "    num_steps += 1\n",
        "\n",
        "    write_markdown_file(str(draft_email), \"final_email\")\n",
        "    return {\"final_email\": draft_email, \"num_steps\":num_steps}"
      ],
      "metadata": {
        "id": "iu99fhTJp8Ye"
      },
      "execution_count": 25,
      "outputs": []
    },
    {
      "cell_type": "code",
      "source": [
        "def state_printer(state):\n",
        "    \"\"\"print the state\"\"\"\n",
        "    print(\"---STATE PRINTER---\")\n",
        "    print(f\"Initial Email: {state['initial_email']} \\n\" )\n",
        "    print(f\"Email Category: {state['email_category']} \\n\")\n",
        "    print(f\"Draft Email: {state['draft_email']} \\n\" )\n",
        "    print(f\"Final Email: {state['final_email']} \\n\" )\n",
        "    print(f\"Research Info: {state['research_info']} \\n\")\n",
        "    print(f\"Info Needed: {state['info_needed']} \\n\")\n",
        "    print(f\"Num Steps: {state['num_steps']} \\n\")\n",
        "    return"
      ],
      "metadata": {
        "id": "XFMHbUM6qAAP"
      },
      "execution_count": 26,
      "outputs": []
    },
    {
      "cell_type": "markdown",
      "source": [
        "CONDITIONAL EDGES"
      ],
      "metadata": {
        "id": "lRkYUpgKqGdJ"
      }
    },
    {
      "cell_type": "code",
      "source": [
        "def route_to_research(state):\n",
        "    \"\"\"\n",
        "    Route email to web search or not.\n",
        "    Args:\n",
        "        state (dict): The current graph state\n",
        "    Returns:\n",
        "        str: Next node to call\n",
        "    \"\"\"\n",
        "\n",
        "    print(\"---ROUTE TO RESEARCH---\")\n",
        "    initial_email = state[\"initial_email\"]\n",
        "    email_category = state[\"email_category\"]\n",
        "\n",
        "\n",
        "    router = research_router.invoke({\"initial_email\": initial_email,\"email_category\":email_category })\n",
        "    print(router)\n",
        "    # print(type(router))\n",
        "    print(router['router_decision'])\n",
        "    if router['router_decision'] == 'research_info':\n",
        "        print(\"---ROUTE EMAIL TO RESEARCH INFO---\")\n",
        "        return \"research_info\"\n",
        "    elif router['router_decision'] == 'draft_email':\n",
        "        print(\"---ROUTE EMAIL TO DRAFT EMAIL---\")\n",
        "        return \"draft_email\""
      ],
      "metadata": {
        "id": "DfDvXMrHqDF8"
      },
      "execution_count": 27,
      "outputs": []
    },
    {
      "cell_type": "code",
      "source": [
        "def route_to_rewrite(state):\n",
        "\n",
        "    print(\"---ROUTE TO REWRITE---\")\n",
        "    initial_email = state[\"initial_email\"]\n",
        "    email_category = state[\"email_category\"]\n",
        "    draft_email = state[\"draft_email\"]\n",
        "    research_info = state[\"research_info\"]\n",
        "\n",
        "    # draft_email = \"Yo we can't help you, best regards Sarah\"\n",
        "\n",
        "    router = rewrite_router.invoke({\"initial_email\": initial_email,\n",
        "                                     \"email_category\":email_category,\n",
        "                                     \"draft_email\":draft_email}\n",
        "                                   )\n",
        "    print(router)\n",
        "    print(router['router_decision'])\n",
        "    if router['router_decision'] == 'rewrite':\n",
        "        print(\"---ROUTE TO ANALYSIS - REWRITE---\")\n",
        "        return \"rewrite\"\n",
        "    elif router['router_decision'] == 'no_rewrite':\n",
        "        print(\"---ROUTE EMAIL TO FINAL EMAIL---\")\n",
        "        return \"no_rewrite\""
      ],
      "metadata": {
        "id": "0zHwa6KwqNtM"
      },
      "execution_count": 28,
      "outputs": []
    },
    {
      "cell_type": "markdown",
      "source": [
        "BUILD GRAPH"
      ],
      "metadata": {
        "id": "pFObxYUrqV4k"
      }
    },
    {
      "cell_type": "code",
      "source": [
        "\n",
        "workflow = StateGraph(GraphState)\n",
        "\n",
        "# Define the nodes\n",
        "workflow.add_node(\"categorize_email\", categorize_email) # categorize email\n",
        "workflow.add_node(\"research_info_search\", research_info_search) # web search\n",
        "workflow.add_node(\"state_printer\", state_printer)\n",
        "workflow.add_node(\"draft_email_writer\", draft_email_writer)\n",
        "workflow.add_node(\"analyze_draft_email\", analyze_draft_email)\n",
        "workflow.add_node(\"rewrite_email\", rewrite_email)\n",
        "workflow.add_node(\"no_rewrite\", no_rewrite)\n",
        "\n"
      ],
      "metadata": {
        "id": "kKKAZ2ZwqPqV"
      },
      "execution_count": 29,
      "outputs": []
    },
    {
      "cell_type": "markdown",
      "source": [
        "ADD EDGES"
      ],
      "metadata": {
        "id": "IjWgO5oLqnFd"
      }
    },
    {
      "cell_type": "code",
      "source": [
        "workflow.set_entry_point(\"categorize_email\")\n",
        "\n",
        "workflow.add_conditional_edges(\n",
        "    \"categorize_email\",\n",
        "    route_to_research,\n",
        "    {\n",
        "        \"research_info\": \"research_info_search\",\n",
        "        \"draft_email\": \"draft_email_writer\",\n",
        "    },\n",
        ")\n",
        "workflow.add_edge(\"research_info_search\", \"draft_email_writer\")\n",
        "\n",
        "\n",
        "workflow.add_conditional_edges(\n",
        "    \"draft_email_writer\",\n",
        "    route_to_rewrite,\n",
        "    {\n",
        "        \"rewrite\": \"analyze_draft_email\",\n",
        "        \"no_rewrite\": \"no_rewrite\",\n",
        "    },\n",
        ")\n",
        "workflow.add_edge(\"analyze_draft_email\", \"rewrite_email\")\n",
        "workflow.add_edge(\"no_rewrite\", \"state_printer\")\n",
        "workflow.add_edge(\"rewrite_email\", \"state_printer\")\n",
        "workflow.add_edge(\"state_printer\", END)"
      ],
      "metadata": {
        "id": "8EdltLAuqfZd"
      },
      "execution_count": 30,
      "outputs": []
    },
    {
      "cell_type": "code",
      "source": [
        "# Compile\n",
        "app = workflow.compile()"
      ],
      "metadata": {
        "id": "MWyiofNprFtG"
      },
      "execution_count": 31,
      "outputs": []
    },
    {
      "cell_type": "code",
      "source": [
        "# EMAIL = \"\"\"HI there, \\n\n",
        "# I am emailing to find out the current price of Bitcoin. \\n\n",
        "\n",
        "# Can you please help me/\n",
        "\n",
        "# Thanks,\n",
        "# John\n",
        "# \"\"\"\n",
        "\n",
        "EMAIL = \"\"\"HI there, \\n\n",
        "I am emailing to say that I had a wonderful stay at your resort last week. \\n\n",
        "\n",
        "I really appreaciate what your staff did\n",
        "\n",
        "Thanks,\n",
        "Paul\n",
        "\"\"\"\n",
        "\n",
        "EMAIL = \"\"\"HI there, \\n\n",
        "I am emailing to say that the resort weather was way to cloudy and overcast. \\n\n",
        "I wanted to write a song called 'Here comes the sun but it never came'\n",
        "\n",
        "What should be the weather in Arizona in April?\n",
        "\n",
        "I really hope you fix this next time.\n",
        "\n",
        "Thanks,\n",
        "George\n",
        "\"\"\"\n",
        "\n",
        "# EMAIL = \"\"\"HI there, \\n\n",
        "# Why can't I get to sing?\n",
        "\n",
        "# Thanks,\n",
        "# Ringo\n",
        "# \"\"\"\n",
        "\n",
        "# EMAIL = \"\"\"HI there, \\n\n",
        "# Thanks for confirming my booking\n",
        "\n",
        "# Thanks,\n",
        "# Ringo\n",
        "# \"\"\""
      ],
      "metadata": {
        "id": "_7kL6wrIrIXA"
      },
      "execution_count": 32,
      "outputs": []
    },
    {
      "cell_type": "code",
      "source": [
        "# run the agent\n",
        "inputs = {\"initial_email\": EMAIL,\"research_info\": None, \"num_steps\":0}\n",
        "for output in app.stream(inputs):\n",
        "    for key, value in output.items():\n",
        "        pprint(f\"Finished running: {key}:\")"
      ],
      "metadata": {
        "colab": {
          "base_uri": "https://localhost:8080/"
        },
        "id": "nMCYXVa-rLbc",
        "outputId": "2346cd74-57c4-4586-e59d-3855580ab48d"
      },
      "execution_count": 33,
      "outputs": [
        {
          "output_type": "stream",
          "name": "stdout",
          "text": [
            "---CATEGORIZING INITIAL EMAIL---\n",
            "'customer_complaint'\n",
            "---ROUTE TO RESEARCH---\n",
            "{'router_decision': 'research_info'}\n",
            "research_info\n",
            "---ROUTE EMAIL TO RESEARCH INFO---\n",
            "'Finished running: categorize_email:'\n",
            "---RESEARCH INFO SEARCHING---\n",
            "Arizona weather April\n",
            "[Document(page_content=\"{'location': {'name': 'Arizona Village', 'region': 'Arizona', 'country': 'United States of America', 'lat': 34.85, 'lon': -114.58, 'tz_id': 'America/Los_Angeles', 'localtime_epoch': 1716035320, 'localtime': '2024-05-18 5:28'}, 'current': {'last_updated_epoch': 1716034500, 'last_updated': '2024-05-18 05:15', 'temp_c': 25.0, 'temp_f': 77.0, 'is_day': 0, 'condition': {'text': 'Clear', 'icon': '//cdn.weatherapi.com/weather/64x64/night/113.png', 'code': 1000}, 'wind_mph': 5.6, 'wind_kph': 9.0, 'wind_degree': 180, 'wind_dir': 'S', 'pressure_mb': 1008.0, 'pressure_in': 29.75, 'precip_mm': 0.0, 'precip_in': 0.0, 'humidity': 19, 'cloud': 0, 'feelslike_c': 24.0, 'feelslike_f': 75.1, 'vis_km': 16.0, 'vis_miles': 9.0, 'uv': 1.0, 'gust_mph': 10.8, 'gust_kph': 17.4}}\\nPhoenix Temperature History April 2024. The daily range of reported temperatures (gray bars) and 24-hour highs (red ticks) and lows (blue ticks), placed over the daily average high (faint red line) and low (faint blue line) temperature, with 25th to 75th and 10th to 90th percentile bands.\\nExtended weather forecast in Phoenix. Hourly Week 10 days 14 days 30 days Year. Detailed ⚡ Phoenix Weather Forecast for April 2024 - day/night 🌡️ temperatures, precipitations - World-Weather.info.\\nGet the monthly weather forecast for Phoenix, AZ, including daily high/low, historical averages, to help you plan ahead.\\nPast Weather in Phoenix, Arizona, USA — April 2024. Time/General. Weather. Time Zone. DST Changes. Sun & Moon. Weather Today Weather Hourly 14 Day Forecast Yesterday/Past Weather Climate (Averages) Currently: 72 °F. Clear.\")]\n",
            "<class 'list'>\n",
            "'Finished running: research_info_search:'\n",
            "---DRAFT EMAIL WRITER---\n",
            "{'email_draft': \"Dear George,\\n\\nThank you for reaching out to us about your recent experience at our resort in Arizona. I'm so sorry to hear that the weather didn't quite live up to your expectations. We understand how frustrating it can be when the sun doesn't shine as brightly as we'd like.\\n\\nRegarding your question about the typical weather in Arizona in April, I can tell you that it's usually mild and pleasant, with average high temperatures ranging from 77°F (25°C) to 86°F (30°C) during the day. However, it's not uncommon to have some cloudy days, especially in the mornings.\\n\\nI appreciate your feedback, and we'll definitely take it into consideration for future improvements. Your song title idea, 'Here comes the sun but it never came', made me chuckle!\\n\\nOnce again, thank you for sharing your concerns with us. We value your feedback and hope to have the opportunity to welcome you back to our resort in the future.\\n\\nBest regards,\\nSarah, Resident Manager\"}\n",
            "---ROUTE TO REWRITE---\n",
            "{'router_decision': 'no_rewrite'}\n",
            "no_rewrite\n",
            "---ROUTE EMAIL TO FINAL EMAIL---\n",
            "'Finished running: draft_email_writer:'\n",
            "---NO REWRITE EMAIL ---\n",
            "'Finished running: no_rewrite:'\n",
            "---STATE PRINTER---\n",
            "Initial Email: HI there, \n",
            "\n",
            "I am emailing to say that the resort weather was way to cloudy and overcast. \n",
            "\n",
            "I wanted to write a song called 'Here comes the sun but it never came'\n",
            "\n",
            "What should be the weather in Arizona in April?\n",
            "\n",
            "I really hope you fix this next time.\n",
            "\n",
            "Thanks,\n",
            "George\n",
            " \n",
            "\n",
            "Email Category: 'customer_complaint' \n",
            "\n",
            "Draft Email: Dear George,\n",
            "\n",
            "Thank you for reaching out to us about your recent experience at our resort in Arizona. I'm so sorry to hear that the weather didn't quite live up to your expectations. We understand how frustrating it can be when the sun doesn't shine as brightly as we'd like.\n",
            "\n",
            "Regarding your question about the typical weather in Arizona in April, I can tell you that it's usually mild and pleasant, with average high temperatures ranging from 77°F (25°C) to 86°F (30°C) during the day. However, it's not uncommon to have some cloudy days, especially in the mornings.\n",
            "\n",
            "I appreciate your feedback, and we'll definitely take it into consideration for future improvements. Your song title idea, 'Here comes the sun but it never came', made me chuckle!\n",
            "\n",
            "Once again, thank you for sharing your concerns with us. We value your feedback and hope to have the opportunity to welcome you back to our resort in the future.\n",
            "\n",
            "Best regards,\n",
            "Sarah, Resident Manager \n",
            "\n",
            "Final Email: Dear George,\n",
            "\n",
            "Thank you for reaching out to us about your recent experience at our resort in Arizona. I'm so sorry to hear that the weather didn't quite live up to your expectations. We understand how frustrating it can be when the sun doesn't shine as brightly as we'd like.\n",
            "\n",
            "Regarding your question about the typical weather in Arizona in April, I can tell you that it's usually mild and pleasant, with average high temperatures ranging from 77°F (25°C) to 86°F (30°C) during the day. However, it's not uncommon to have some cloudy days, especially in the mornings.\n",
            "\n",
            "I appreciate your feedback, and we'll definitely take it into consideration for future improvements. Your song title idea, 'Here comes the sun but it never came', made me chuckle!\n",
            "\n",
            "Once again, thank you for sharing your concerns with us. We value your feedback and hope to have the opportunity to welcome you back to our resort in the future.\n",
            "\n",
            "Best regards,\n",
            "Sarah, Resident Manager \n",
            "\n",
            "Research Info: [Document(page_content=\"{'location': {'name': 'Arizona Village', 'region': 'Arizona', 'country': 'United States of America', 'lat': 34.85, 'lon': -114.58, 'tz_id': 'America/Los_Angeles', 'localtime_epoch': 1716035320, 'localtime': '2024-05-18 5:28'}, 'current': {'last_updated_epoch': 1716034500, 'last_updated': '2024-05-18 05:15', 'temp_c': 25.0, 'temp_f': 77.0, 'is_day': 0, 'condition': {'text': 'Clear', 'icon': '//cdn.weatherapi.com/weather/64x64/night/113.png', 'code': 1000}, 'wind_mph': 5.6, 'wind_kph': 9.0, 'wind_degree': 180, 'wind_dir': 'S', 'pressure_mb': 1008.0, 'pressure_in': 29.75, 'precip_mm': 0.0, 'precip_in': 0.0, 'humidity': 19, 'cloud': 0, 'feelslike_c': 24.0, 'feelslike_f': 75.1, 'vis_km': 16.0, 'vis_miles': 9.0, 'uv': 1.0, 'gust_mph': 10.8, 'gust_kph': 17.4}}\\nPhoenix Temperature History April 2024. The daily range of reported temperatures (gray bars) and 24-hour highs (red ticks) and lows (blue ticks), placed over the daily average high (faint red line) and low (faint blue line) temperature, with 25th to 75th and 10th to 90th percentile bands.\\nExtended weather forecast in Phoenix. Hourly Week 10 days 14 days 30 days Year. Detailed ⚡ Phoenix Weather Forecast for April 2024 - day/night 🌡️ temperatures, precipitations - World-Weather.info.\\nGet the monthly weather forecast for Phoenix, AZ, including daily high/low, historical averages, to help you plan ahead.\\nPast Weather in Phoenix, Arizona, USA — April 2024. Time/General. Weather. Time Zone. DST Changes. Sun & Moon. Weather Today Weather Hourly 14 Day Forecast Yesterday/Past Weather Climate (Averages) Currently: 72 °F. Clear.\")] \n",
            "\n",
            "Info Needed: None \n",
            "\n",
            "Num Steps: 4 \n",
            "\n"
          ]
        }
      ]
    },
    {
      "cell_type": "code",
      "source": [
        "output = app.invoke(inputs)\n",
        "\n",
        "print(output['final_email'])"
      ],
      "metadata": {
        "colab": {
          "base_uri": "https://localhost:8080/"
        },
        "id": "FOpgT84trThZ",
        "outputId": "f1dae893-f0a4-4909-812c-62d65512ef31"
      },
      "execution_count": 38,
      "outputs": [
        {
          "output_type": "stream",
          "name": "stdout",
          "text": [
            "---CATEGORIZING INITIAL EMAIL---\n",
            "'customer_complaint'\n",
            "---ROUTE TO RESEARCH---\n",
            "{'router_decision': 'research_info'}\n",
            "research_info\n",
            "---ROUTE EMAIL TO RESEARCH INFO---\n",
            "---RESEARCH INFO SEARCHING---\n",
            "arizona weather april\n",
            "[Document(page_content=\"{'location': {'name': 'Arizona', 'region': 'Atlantida', 'country': 'Honduras', 'lat': 15.63, 'lon': -87.32, 'tz_id': 'America/Tegucigalpa', 'localtime_epoch': 1716035456, 'localtime': '2024-05-18 6:30'}, 'current': {'last_updated_epoch': 1716034500, 'last_updated': '2024-05-18 06:15', 'temp_c': 29.0, 'temp_f': 84.2, 'is_day': 1, 'condition': {'text': 'Partly cloudy', 'icon': '//cdn.weatherapi.com/weather/64x64/day/116.png', 'code': 1003}, 'wind_mph': 13.6, 'wind_kph': 22.0, 'wind_degree': 250, 'wind_dir': 'WSW', 'pressure_mb': 1009.0, 'pressure_in': 29.8, 'precip_mm': 0.0, 'precip_in': 0.0, 'humidity': 70, 'cloud': 50, 'feelslike_c': 32.4, 'feelslike_f': 90.2, 'vis_km': 10.0, 'vis_miles': 6.0, 'uv': 7.0, 'gust_mph': 18.1, 'gust_kph': 29.2}}\\nPast Weather in Phoenix, Arizona, USA — April 2024. Time/General. Weather. Time Zone. DST Changes. Sun & Moon. Weather Today Weather Hourly 14 Day Forecast Yesterday/Past Weather Climate (Averages) Currently: 72 °F. Clear.\\nPhoenix Temperature History April 2024. The daily range of reported temperatures (gray bars) and 24-hour highs (red ticks) and lows (blue ticks), placed over the daily average high (faint red line) and low (faint blue line) temperature, with 25th to 75th and 10th to 90th percentile bands.\\nHere you can find all information about the weather in Phoenix in April:\\nPhoenix weather in April\\nPhoenix weather by month // weather averages\\n11.7\\n(53.1)\\n4.7\\n(40.4)\\n19.6\\n(67.2)\\n34\\n(1.3)\\n13.6\\n(56.5)\\n6.3\\n(43.3)\\n21.4\\n(70.4)\\n38\\n(1.5)\\n18.1\\n(64.5)\\n9.6\\n(49.3)\\n26.1\\n(78.9)\\n25\\n(1)\\n22.4\\n(72.3)\\n13.8\\n(56.8)\\n30.3\\n(86.5)\\n8\\n(0.3)\\n27.4\\n(81.4)\\n18.8\\n(65.9)\\n34.9\\n(94.9)\\n4\\n(0.2)\\n33.2\\n(91.8)\\n24.6\\n(76.3)\\n40.5\\n(104.9)\\n2\\n(0.1)\\n34.9\\n(94.8)\\n28.2\\n(82.8)\\n41.2\\n(106.2)\\n22\\n(0.9)\\n34\\n(93.3)\\n27.6\\n(81.6)\\n40.3\\n(104.6)\\n32\\n(1.3)\\n30.7\\n(87.3)\\n23.5\\n(74.3)\\n37.5\\n(99.5)\\n27\\n(1.1)\\n24\\n(75.2)\\n16.3\\n(61.3)\\n31.3\\n(88.4)\\n20\\n(0.8)\\n17\\n(62.7)\\n9.7\\n(49.5)\\n24.5\\n(76.2)\\n17\\n(0.7)\\n11.1\\n(51.9)\\n4.6\\n(40.3)\\n18.3\\n(65)\\n29\\n(1.1)\\n11.7 °C\\n(53.1) °F\\n13.6 °C\\n(56.5) °F\\n18.1 °C\\n(64.5) °F\\n22.4 °C\\n(72.3) °F\\n27.4 °C\\n(81.4) °F\\n33.2 °C\\n(91.8) °F\\n34.9 °C\\n(94.8) °F\\n34 °C\\n(93.3) °F\\n30.7 °C\\n(87.3) °F\\n24 °C\\n(75.2) ° F\\n17 °C\\n(62.7) °F\\n11.1 °C\\n(51.9) °F\\n4.7 °C\\n(40.4) °F\\n6.3 °C\\n(43.3) °F\\n9.6 °C\\n(49.3) °F\\n13.8 °C\\n(56.8) °F\\n18.8 °C\\n(65.9) °F\\n24.6 °C\\n(76.3) °F\\n28.2 °C\\n(82.8) °F\\n27.6 °C\\n(81.6) °F\\n23.5 °C\\n(74.3) °F\\n16.3 °C\\n(61.3) °F\\n9.7 °C\\n(49.5) °F\\n4.6 °C\\n(40.3) °F\\n19.6 °C\\n(67.2) °F\\n21.4 °C\\n(70.4) °F\\n26.1 °C\\n(78.9) °F\\n30.3 °C\\n(86.5) °F\\n34.9 °C\\n(94.9) °F\\n40.5 °C\\n(104.9) °F\\n41.2 °C\\n(106.2) °F\\n40.3 °C\\n(104.6) °F\\n37.5 °C\\n(99.5) °F\\n31.3 °C\\n(88.4) °F\\n24.5 °C\\n(76.2) °F\\n18.3 °C\\n(65) °F\\n34\\n(1)\\n38\\n(1)\\n25\\n(0)\\n8\\n(0)\\n4\\n(0)\\n2\\n(0)\\n22\\n(0)\\n32\\n(1)\\n27\\n(1)\\n20\\n(0)\\n17\\n(0)\\n29\\n(1)\\nData: 1991 - 2021 Min. Temperature °C (°F), Max. London (LHR), Baltimore (BWI), Toronto (YYZ), Cleveland (CLE), Detroit (DTW), Duluth (DLH), Honolulu (HNL), Dallas (DFW), San Francisco (SFO), Calgary (YYC), San Antonio (SAT), Houston (HOU), New Orleans (MSY), Seattle (SEA), Edmonton (YEG), Cancún (CUN), Las Vegas (LAS), Pittsburgh (PIT), Nashville (BNA), Spokane (GEG)\\nEl Paso (ELP), Vancouver (YVR), Boise (BOI), New York (JFK), Mexico City (MEX), Idaho Falls (IDA), Missoula (MSO), Billings (BIL), Great Falls (GTF), Orlando (MCO), Des Moines (DSM), Anchorage (ANC), Salt Lake City (SLC), Reno (RNO), Sacramento (SMF), Ontario (ONT), Provo (PVU), Oakland (OAK), Springfield (SGF), Albuquerque (ABQ), Denver (DEN), Little Rock (LIT), Omaha (OMA), Minneapolis (MSP), Fargo (FAR), Cedar Rapids (CID), Sioux Falls (FSD), St. Louis (STL), Wichita (ICT), Rochester (RST), Bismarck (BIS), Grand Rapids (GRR), Indianapolis (IND), Louisville (SDF), Chicago (MDW), South Bend (SBN), Fort Wayne (FWA), Peoria (PIA), Atlanta (ATL), Tampa (TPA), Columbus (CMH), Fort Lauderdale (FLL), Charlotte (CLT), Miami (MIA), Buffalo (BUF), Philadelphia (PHL), Washington (IAD), Boston (BOS), Newark (EWR), Hermosillo (HMO), Milwaukee (MKE), San Jose Del Cabo (SJD), Guadalajara (GDL), Portland (PDX), San José (SJC), Bellingham (BLI), Bozeman (BZN), Pasco (PSC), Page (PGA), Grand Forks (GFK), Moline (MLI), Grand Island (GRI), Minot (MOT), Rapid City (RAP), Ixtapa (ZIH), Eugene (EUG), Los Angeles (LAX), Austin (AUS), San Diego (SAN), Long Beach (LGB), Santa Ana (SNA), Burbank (BUR), Appleton (ATW), Tulsa (TUL), Oklahoma City (OKC), Lihue (LIH), Puerto Vallarta (PVR), Kansas City (MCI), Mazatlán (MZT), Kahului (OGG)\\nGila Bend\\nMaricopa\\nGoodyear\\nAvondale\\nTolleson\\nLitchfield Park\\nGlendale\\nBethany Heights\\nmainistee ranch\\nYoungtown\\nEl Mirage\\nPeoria\\nSun City\\nOakhollow\\nCasa Grande\\nFlorence\\nUpper Santan Village\\nChandler\\nGilbert\\nQueen Creek\\nGuadalupe\\nTempe\\nMesa\\nMesa\\nScottsdale\\nFountain Hills\\nCarefree weather averages\\nAirport close to Phoenix\\nThe closest Airports of Phoenix are: Phoenix Sky Harbor International Airport (PHX) 7.33km,Phoenix–Mesa Gateway Airport (AZA) 42.14km,Tucson International Airport (TUS) 182.10km\\nYou can reach Phoenix from this Cities by Plane: Sun hours\\nPhoenix weather and climate for further months\\nPhoenix weather in April //\\nGet the monthly weather forecast for Phoenix, AZ, including daily high/low, historical averages, to help you plan ahead.\")]\n",
            "<class 'list'>\n",
            "---DRAFT EMAIL WRITER---\n",
            "{'email_draft': \"Dear George,\\n\\nThank you for reaching out to us about your recent experience at our resort in Arizona. I apologize that the weather was not ideal during your stay. I understand how frustrating it can be when the sun doesn't come out as expected.\\n\\nRegarding your question, in April, Phoenix, Arizona typically experiences mild temperatures, with average highs around 72°F (22°C) and lows around 52°F (11°C). However, it's not uncommon to have some cloudy days during this time of the year.\\n\\nI appreciate your feedback and assure you that we value your opinion. We're constantly working to improve our services, and your input helps us to do so. I hope you'll give us another chance to provide you with a better experience in the future.\\n\\nThank you again for your email, and I wish you all the best with your songwriting endeavors!\\n\\nBest regards,\\nSarah, Resident Manager\"}\n",
            "---ROUTE TO REWRITE---\n",
            "{'router_decision': 'no_rewrite'}\n",
            "no_rewrite\n",
            "---ROUTE EMAIL TO FINAL EMAIL---\n",
            "---NO REWRITE EMAIL ---\n",
            "---STATE PRINTER---\n",
            "Initial Email: HI there, \n",
            "\n",
            "I am emailing to say that the resort weather was way to cloudy and overcast. \n",
            "\n",
            "I wanted to write a song called 'Here comes the sun but it never came'\n",
            "\n",
            "What should be the weather in Arizona in April?\n",
            "\n",
            "I really hope you fix this next time.\n",
            "\n",
            "Thanks,\n",
            "George\n",
            " \n",
            "\n",
            "Email Category: 'customer_complaint' \n",
            "\n",
            "Draft Email: Dear George,\n",
            "\n",
            "Thank you for reaching out to us about your recent experience at our resort in Arizona. I apologize that the weather was not ideal during your stay. I understand how frustrating it can be when the sun doesn't come out as expected.\n",
            "\n",
            "Regarding your question, in April, Phoenix, Arizona typically experiences mild temperatures, with average highs around 72°F (22°C) and lows around 52°F (11°C). However, it's not uncommon to have some cloudy days during this time of the year.\n",
            "\n",
            "I appreciate your feedback and assure you that we value your opinion. We're constantly working to improve our services, and your input helps us to do so. I hope you'll give us another chance to provide you with a better experience in the future.\n",
            "\n",
            "Thank you again for your email, and I wish you all the best with your songwriting endeavors!\n",
            "\n",
            "Best regards,\n",
            "Sarah, Resident Manager \n",
            "\n",
            "Final Email: Dear George,\n",
            "\n",
            "Thank you for reaching out to us about your recent experience at our resort in Arizona. I apologize that the weather was not ideal during your stay. I understand how frustrating it can be when the sun doesn't come out as expected.\n",
            "\n",
            "Regarding your question, in April, Phoenix, Arizona typically experiences mild temperatures, with average highs around 72°F (22°C) and lows around 52°F (11°C). However, it's not uncommon to have some cloudy days during this time of the year.\n",
            "\n",
            "I appreciate your feedback and assure you that we value your opinion. We're constantly working to improve our services, and your input helps us to do so. I hope you'll give us another chance to provide you with a better experience in the future.\n",
            "\n",
            "Thank you again for your email, and I wish you all the best with your songwriting endeavors!\n",
            "\n",
            "Best regards,\n",
            "Sarah, Resident Manager \n",
            "\n",
            "Research Info: [Document(page_content=\"{'location': {'name': 'Arizona', 'region': 'Atlantida', 'country': 'Honduras', 'lat': 15.63, 'lon': -87.32, 'tz_id': 'America/Tegucigalpa', 'localtime_epoch': 1716035456, 'localtime': '2024-05-18 6:30'}, 'current': {'last_updated_epoch': 1716034500, 'last_updated': '2024-05-18 06:15', 'temp_c': 29.0, 'temp_f': 84.2, 'is_day': 1, 'condition': {'text': 'Partly cloudy', 'icon': '//cdn.weatherapi.com/weather/64x64/day/116.png', 'code': 1003}, 'wind_mph': 13.6, 'wind_kph': 22.0, 'wind_degree': 250, 'wind_dir': 'WSW', 'pressure_mb': 1009.0, 'pressure_in': 29.8, 'precip_mm': 0.0, 'precip_in': 0.0, 'humidity': 70, 'cloud': 50, 'feelslike_c': 32.4, 'feelslike_f': 90.2, 'vis_km': 10.0, 'vis_miles': 6.0, 'uv': 7.0, 'gust_mph': 18.1, 'gust_kph': 29.2}}\\nPast Weather in Phoenix, Arizona, USA — April 2024. Time/General. Weather. Time Zone. DST Changes. Sun & Moon. Weather Today Weather Hourly 14 Day Forecast Yesterday/Past Weather Climate (Averages) Currently: 72 °F. Clear.\\nPhoenix Temperature History April 2024. The daily range of reported temperatures (gray bars) and 24-hour highs (red ticks) and lows (blue ticks), placed over the daily average high (faint red line) and low (faint blue line) temperature, with 25th to 75th and 10th to 90th percentile bands.\\nHere you can find all information about the weather in Phoenix in April:\\nPhoenix weather in April\\nPhoenix weather by month // weather averages\\n11.7\\n(53.1)\\n4.7\\n(40.4)\\n19.6\\n(67.2)\\n34\\n(1.3)\\n13.6\\n(56.5)\\n6.3\\n(43.3)\\n21.4\\n(70.4)\\n38\\n(1.5)\\n18.1\\n(64.5)\\n9.6\\n(49.3)\\n26.1\\n(78.9)\\n25\\n(1)\\n22.4\\n(72.3)\\n13.8\\n(56.8)\\n30.3\\n(86.5)\\n8\\n(0.3)\\n27.4\\n(81.4)\\n18.8\\n(65.9)\\n34.9\\n(94.9)\\n4\\n(0.2)\\n33.2\\n(91.8)\\n24.6\\n(76.3)\\n40.5\\n(104.9)\\n2\\n(0.1)\\n34.9\\n(94.8)\\n28.2\\n(82.8)\\n41.2\\n(106.2)\\n22\\n(0.9)\\n34\\n(93.3)\\n27.6\\n(81.6)\\n40.3\\n(104.6)\\n32\\n(1.3)\\n30.7\\n(87.3)\\n23.5\\n(74.3)\\n37.5\\n(99.5)\\n27\\n(1.1)\\n24\\n(75.2)\\n16.3\\n(61.3)\\n31.3\\n(88.4)\\n20\\n(0.8)\\n17\\n(62.7)\\n9.7\\n(49.5)\\n24.5\\n(76.2)\\n17\\n(0.7)\\n11.1\\n(51.9)\\n4.6\\n(40.3)\\n18.3\\n(65)\\n29\\n(1.1)\\n11.7 °C\\n(53.1) °F\\n13.6 °C\\n(56.5) °F\\n18.1 °C\\n(64.5) °F\\n22.4 °C\\n(72.3) °F\\n27.4 °C\\n(81.4) °F\\n33.2 °C\\n(91.8) °F\\n34.9 °C\\n(94.8) °F\\n34 °C\\n(93.3) °F\\n30.7 °C\\n(87.3) °F\\n24 °C\\n(75.2) ° F\\n17 °C\\n(62.7) °F\\n11.1 °C\\n(51.9) °F\\n4.7 °C\\n(40.4) °F\\n6.3 °C\\n(43.3) °F\\n9.6 °C\\n(49.3) °F\\n13.8 °C\\n(56.8) °F\\n18.8 °C\\n(65.9) °F\\n24.6 °C\\n(76.3) °F\\n28.2 °C\\n(82.8) °F\\n27.6 °C\\n(81.6) °F\\n23.5 °C\\n(74.3) °F\\n16.3 °C\\n(61.3) °F\\n9.7 °C\\n(49.5) °F\\n4.6 °C\\n(40.3) °F\\n19.6 °C\\n(67.2) °F\\n21.4 °C\\n(70.4) °F\\n26.1 °C\\n(78.9) °F\\n30.3 °C\\n(86.5) °F\\n34.9 °C\\n(94.9) °F\\n40.5 °C\\n(104.9) °F\\n41.2 °C\\n(106.2) °F\\n40.3 °C\\n(104.6) °F\\n37.5 °C\\n(99.5) °F\\n31.3 °C\\n(88.4) °F\\n24.5 °C\\n(76.2) °F\\n18.3 °C\\n(65) °F\\n34\\n(1)\\n38\\n(1)\\n25\\n(0)\\n8\\n(0)\\n4\\n(0)\\n2\\n(0)\\n22\\n(0)\\n32\\n(1)\\n27\\n(1)\\n20\\n(0)\\n17\\n(0)\\n29\\n(1)\\nData: 1991 - 2021 Min. Temperature °C (°F), Max. London (LHR), Baltimore (BWI), Toronto (YYZ), Cleveland (CLE), Detroit (DTW), Duluth (DLH), Honolulu (HNL), Dallas (DFW), San Francisco (SFO), Calgary (YYC), San Antonio (SAT), Houston (HOU), New Orleans (MSY), Seattle (SEA), Edmonton (YEG), Cancún (CUN), Las Vegas (LAS), Pittsburgh (PIT), Nashville (BNA), Spokane (GEG)\\nEl Paso (ELP), Vancouver (YVR), Boise (BOI), New York (JFK), Mexico City (MEX), Idaho Falls (IDA), Missoula (MSO), Billings (BIL), Great Falls (GTF), Orlando (MCO), Des Moines (DSM), Anchorage (ANC), Salt Lake City (SLC), Reno (RNO), Sacramento (SMF), Ontario (ONT), Provo (PVU), Oakland (OAK), Springfield (SGF), Albuquerque (ABQ), Denver (DEN), Little Rock (LIT), Omaha (OMA), Minneapolis (MSP), Fargo (FAR), Cedar Rapids (CID), Sioux Falls (FSD), St. Louis (STL), Wichita (ICT), Rochester (RST), Bismarck (BIS), Grand Rapids (GRR), Indianapolis (IND), Louisville (SDF), Chicago (MDW), South Bend (SBN), Fort Wayne (FWA), Peoria (PIA), Atlanta (ATL), Tampa (TPA), Columbus (CMH), Fort Lauderdale (FLL), Charlotte (CLT), Miami (MIA), Buffalo (BUF), Philadelphia (PHL), Washington (IAD), Boston (BOS), Newark (EWR), Hermosillo (HMO), Milwaukee (MKE), San Jose Del Cabo (SJD), Guadalajara (GDL), Portland (PDX), San José (SJC), Bellingham (BLI), Bozeman (BZN), Pasco (PSC), Page (PGA), Grand Forks (GFK), Moline (MLI), Grand Island (GRI), Minot (MOT), Rapid City (RAP), Ixtapa (ZIH), Eugene (EUG), Los Angeles (LAX), Austin (AUS), San Diego (SAN), Long Beach (LGB), Santa Ana (SNA), Burbank (BUR), Appleton (ATW), Tulsa (TUL), Oklahoma City (OKC), Lihue (LIH), Puerto Vallarta (PVR), Kansas City (MCI), Mazatlán (MZT), Kahului (OGG)\\nGila Bend\\nMaricopa\\nGoodyear\\nAvondale\\nTolleson\\nLitchfield Park\\nGlendale\\nBethany Heights\\nmainistee ranch\\nYoungtown\\nEl Mirage\\nPeoria\\nSun City\\nOakhollow\\nCasa Grande\\nFlorence\\nUpper Santan Village\\nChandler\\nGilbert\\nQueen Creek\\nGuadalupe\\nTempe\\nMesa\\nMesa\\nScottsdale\\nFountain Hills\\nCarefree weather averages\\nAirport close to Phoenix\\nThe closest Airports of Phoenix are: Phoenix Sky Harbor International Airport (PHX) 7.33km,Phoenix–Mesa Gateway Airport (AZA) 42.14km,Tucson International Airport (TUS) 182.10km\\nYou can reach Phoenix from this Cities by Plane: Sun hours\\nPhoenix weather and climate for further months\\nPhoenix weather in April //\\nGet the monthly weather forecast for Phoenix, AZ, including daily high/low, historical averages, to help you plan ahead.\")] \n",
            "\n",
            "Info Needed: None \n",
            "\n",
            "Num Steps: 4 \n",
            "\n",
            "Dear George,\n",
            "\n",
            "Thank you for reaching out to us about your recent experience at our resort in Arizona. I apologize that the weather was not ideal during your stay. I understand how frustrating it can be when the sun doesn't come out as expected.\n",
            "\n",
            "Regarding your question, in April, Phoenix, Arizona typically experiences mild temperatures, with average highs around 72°F (22°C) and lows around 52°F (11°C). However, it's not uncommon to have some cloudy days during this time of the year.\n",
            "\n",
            "I appreciate your feedback and assure you that we value your opinion. We're constantly working to improve our services, and your input helps us to do so. I hope you'll give us another chance to provide you with a better experience in the future.\n",
            "\n",
            "Thank you again for your email, and I wish you all the best with your songwriting endeavors!\n",
            "\n",
            "Best regards,\n",
            "Sarah, Resident Manager\n"
          ]
        }
      ]
    },
    {
      "cell_type": "code",
      "source": [
        "!cat /content/email_category.md"
      ],
      "metadata": {
        "colab": {
          "base_uri": "https://localhost:8080/"
        },
        "id": "ccNZXPhPrlTG",
        "outputId": "80b144d8-f420-494e-8b60-4491b0080c0a"
      },
      "execution_count": 35,
      "outputs": [
        {
          "output_type": "stream",
          "name": "stdout",
          "text": [
            "'customer_complaint'"
          ]
        }
      ]
    },
    {
      "cell_type": "code",
      "source": [
        "!cat /content/draft_email.md"
      ],
      "metadata": {
        "colab": {
          "base_uri": "https://localhost:8080/"
        },
        "id": "FqrzrmoMrp2o",
        "outputId": "ae917e3e-975b-4677-c716-75bd77165a33"
      },
      "execution_count": 39,
      "outputs": [
        {
          "output_type": "stream",
          "name": "stdout",
          "text": [
            "Dear George,\n",
            "\n",
            "Thank you for reaching out to us about your recent experience at our resort in Arizona. I apologize that the weather was not ideal during your stay. I understand how frustrating it can be when the sun doesn't come out as expected.\n",
            "\n",
            "Regarding your question, in April, Phoenix, Arizona typically experiences mild temperatures, with average highs around 72°F (22°C) and lows around 52°F (11°C). However, it's not uncommon to have some cloudy days during this time of the year.\n",
            "\n",
            "I appreciate your feedback and assure you that we value your opinion. We're constantly working to improve our services, and your input helps us to do so. I hope you'll give us another chance to provide you with a better experience in the future.\n",
            "\n",
            "Thank you again for your email, and I wish you all the best with your songwriting endeavors!\n",
            "\n",
            "Best regards,\n",
            "Sarah, Resident Manager"
          ]
        }
      ]
    },
    {
      "cell_type": "code",
      "source": [],
      "metadata": {
        "id": "95Xxf1OCsCcS"
      },
      "execution_count": null,
      "outputs": []
    }
  ]
}